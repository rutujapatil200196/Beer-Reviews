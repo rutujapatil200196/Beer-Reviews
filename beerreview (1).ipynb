{
 "cells": [
  {
   "cell_type": "code",
   "execution_count": 1,
   "metadata": {},
   "outputs": [],
   "source": [
    "import numpy as np\n",
    "import pandas as pd\n",
    "import seaborn as sns\n",
    "sns.set()"
   ]
  },
  {
   "cell_type": "code",
   "execution_count": 18,
   "metadata": {},
   "outputs": [],
   "source": [
    "beer=pd.read_csv('train1.csv')"
   ]
  },
  {
   "cell_type": "code",
   "execution_count": 19,
   "metadata": {},
   "outputs": [
    {
     "data": {
      "text/html": [
       "<div>\n",
       "<style scoped>\n",
       "    .dataframe tbody tr th:only-of-type {\n",
       "        vertical-align: middle;\n",
       "    }\n",
       "\n",
       "    .dataframe tbody tr th {\n",
       "        vertical-align: top;\n",
       "    }\n",
       "\n",
       "    .dataframe thead th {\n",
       "        text-align: right;\n",
       "    }\n",
       "</style>\n",
       "<table border=\"1\" class=\"dataframe\">\n",
       "  <thead>\n",
       "    <tr style=\"text-align: right;\">\n",
       "      <th></th>\n",
       "      <th>index</th>\n",
       "      <th>beer/ABV</th>\n",
       "      <th>beer/beerId</th>\n",
       "      <th>beer/brewerId</th>\n",
       "      <th>beer/name</th>\n",
       "      <th>beer/style</th>\n",
       "      <th>review/appearance</th>\n",
       "      <th>review/aroma</th>\n",
       "      <th>review/overall</th>\n",
       "      <th>review/palate</th>\n",
       "      <th>review/taste</th>\n",
       "      <th>review/text</th>\n",
       "      <th>review/timeStruct</th>\n",
       "      <th>review/timeUnix</th>\n",
       "      <th>user/ageInSeconds</th>\n",
       "      <th>user/birthdayRaw</th>\n",
       "      <th>user/birthdayUnix</th>\n",
       "      <th>user/gender</th>\n",
       "      <th>user/profileName</th>\n",
       "    </tr>\n",
       "  </thead>\n",
       "  <tbody>\n",
       "    <tr>\n",
       "      <th>0</th>\n",
       "      <td>40163</td>\n",
       "      <td>5.0</td>\n",
       "      <td>46634</td>\n",
       "      <td>14338</td>\n",
       "      <td>Chiostro</td>\n",
       "      <td>Herbed / Spiced Beer</td>\n",
       "      <td>4.0</td>\n",
       "      <td>4.0</td>\n",
       "      <td>4.0</td>\n",
       "      <td>4.0</td>\n",
       "      <td>4.0</td>\n",
       "      <td>Pours a clouded gold with a thin white head. N...</td>\n",
       "      <td>{'min': 38, 'hour': 3, 'mday': 16, 'sec': 10, ...</td>\n",
       "      <td>1229398690</td>\n",
       "      <td>NaN</td>\n",
       "      <td>NaN</td>\n",
       "      <td>NaN</td>\n",
       "      <td>NaN</td>\n",
       "      <td>RblWthACoz</td>\n",
       "    </tr>\n",
       "  </tbody>\n",
       "</table>\n",
       "</div>"
      ],
      "text/plain": [
       "   index  beer/ABV  beer/beerId  beer/brewerId beer/name  \\\n",
       "0  40163       5.0        46634          14338  Chiostro   \n",
       "\n",
       "             beer/style  review/appearance  review/aroma  review/overall  \\\n",
       "0  Herbed / Spiced Beer                4.0           4.0             4.0   \n",
       "\n",
       "   review/palate  review/taste  \\\n",
       "0            4.0           4.0   \n",
       "\n",
       "                                         review/text  \\\n",
       "0  Pours a clouded gold with a thin white head. N...   \n",
       "\n",
       "                                   review/timeStruct  review/timeUnix  \\\n",
       "0  {'min': 38, 'hour': 3, 'mday': 16, 'sec': 10, ...       1229398690   \n",
       "\n",
       "   user/ageInSeconds user/birthdayRaw  user/birthdayUnix user/gender  \\\n",
       "0                NaN              NaN                NaN         NaN   \n",
       "\n",
       "  user/profileName  \n",
       "0       RblWthACoz  "
      ]
     },
     "metadata": {},
     "output_type": "display_data"
    }
   ],
   "source": [
    "display(beer[:1].head())"
   ]
  },
  {
   "cell_type": "code",
   "execution_count": 26,
   "metadata": {},
   "outputs": [],
   "source": [
    "reviews = beer['review/overall']\n",
    "\n",
    "for review in ['review/aroma', 'review/appearance', 'review/palate', 'review/taste']:\n",
    "    reviews = pd.merge(reviews, beer[review],left_index=True, right_index=True)"
   ]
  },
  {
   "cell_type": "code",
   "execution_count": 27,
   "metadata": {},
   "outputs": [
    {
     "data": {
      "text/html": [
       "<div>\n",
       "<style scoped>\n",
       "    .dataframe tbody tr th:only-of-type {\n",
       "        vertical-align: middle;\n",
       "    }\n",
       "\n",
       "    .dataframe tbody tr th {\n",
       "        vertical-align: top;\n",
       "    }\n",
       "\n",
       "    .dataframe thead th {\n",
       "        text-align: right;\n",
       "    }\n",
       "</style>\n",
       "<table border=\"1\" class=\"dataframe\">\n",
       "  <thead>\n",
       "    <tr style=\"text-align: right;\">\n",
       "      <th></th>\n",
       "      <th>review/overall</th>\n",
       "      <th>review/aroma</th>\n",
       "      <th>review/appearance</th>\n",
       "      <th>review/palate</th>\n",
       "      <th>review/taste</th>\n",
       "    </tr>\n",
       "  </thead>\n",
       "  <tbody>\n",
       "    <tr>\n",
       "      <th>0</th>\n",
       "      <td>4.0</td>\n",
       "      <td>4.0</td>\n",
       "      <td>4.0</td>\n",
       "      <td>4.0</td>\n",
       "      <td>4.0</td>\n",
       "    </tr>\n",
       "    <tr>\n",
       "      <th>1</th>\n",
       "      <td>3.5</td>\n",
       "      <td>3.5</td>\n",
       "      <td>4.0</td>\n",
       "      <td>3.5</td>\n",
       "      <td>3.0</td>\n",
       "    </tr>\n",
       "    <tr>\n",
       "      <th>2</th>\n",
       "      <td>3.5</td>\n",
       "      <td>4.0</td>\n",
       "      <td>3.5</td>\n",
       "      <td>3.5</td>\n",
       "      <td>3.5</td>\n",
       "    </tr>\n",
       "    <tr>\n",
       "      <th>3</th>\n",
       "      <td>2.5</td>\n",
       "      <td>3.0</td>\n",
       "      <td>3.0</td>\n",
       "      <td>3.0</td>\n",
       "      <td>3.0</td>\n",
       "    </tr>\n",
       "    <tr>\n",
       "      <th>4</th>\n",
       "      <td>3.0</td>\n",
       "      <td>3.0</td>\n",
       "      <td>4.0</td>\n",
       "      <td>3.5</td>\n",
       "      <td>2.5</td>\n",
       "    </tr>\n",
       "  </tbody>\n",
       "</table>\n",
       "</div>"
      ],
      "text/plain": [
       "   review/overall  review/aroma  review/appearance  review/palate  \\\n",
       "0             4.0           4.0                4.0            4.0   \n",
       "1             3.5           3.5                4.0            3.5   \n",
       "2             3.5           4.0                3.5            3.5   \n",
       "3             2.5           3.0                3.0            3.0   \n",
       "4             3.0           3.0                4.0            3.5   \n",
       "\n",
       "   review/taste  \n",
       "0           4.0  \n",
       "1           3.0  \n",
       "2           3.5  \n",
       "3           3.0  \n",
       "4           2.5  "
      ]
     },
     "execution_count": 27,
     "metadata": {},
     "output_type": "execute_result"
    }
   ],
   "source": [
    "reviews = reviews.dropna()\n",
    "reviews.head()"
   ]
  },
  {
   "cell_type": "code",
   "execution_count": 28,
   "metadata": {},
   "outputs": [
    {
     "data": {
      "text/plain": [
       "<seaborn.axisgrid.PairGrid at 0x1dac9563c88>"
      ]
     },
     "execution_count": 28,
     "metadata": {},
     "output_type": "execute_result"
    },
    {
     "data": {
      "image/png": "[encoded data removed]",
      "text/plain": [
       "<Figure size 720x180 with 4 Axes>"
      ]
     },
     "metadata": {},
     "output_type": "display_data"
    }
   ],
   "source": [
    "sns.pairplot(reviews, x_vars=['review/aroma', 'review/appearance', 'review/palate', 'review/taste'], \n",
    "             y_vars=['review/overall'], kind='reg')"
   ]
  },
  {
   "cell_type": "code",
   "execution_count": 30,
   "metadata": {},
   "outputs": [],
   "source": [
    "from sklearn.preprocessing import StandardScaler\n",
    "from sklearn.model_selection import train_test_split\n",
    "from sklearn.model_selection import cross_val_score\n",
    "from sklearn.model_selection import KFold\n",
    "from sklearn.pipeline import make_pipeline\n",
    "from sklearn.linear_model import LinearRegression\n",
    "from sklearn.linear_model import Ridge\n",
    "from sklearn.linear_model import Lasso\n",
    "from sklearn.neighbors import KNeighborsRegressor\n",
    "\n",
    "X = reviews[['review/aroma', 'review/appearance','review/palate', 'review/taste']]\n",
    "y = reviews['review/overall']"
   ]
  },
  {
   "cell_type": "code",
   "execution_count": 32,
   "metadata": {},
   "outputs": [],
   "source": [
    "kfold = KFold(n_splits=10, shuffle=True)\n",
    "\n",
    "data_sets = dict()\n",
    "for split in range(10):\n",
    "    _d = dict()\n",
    "    for train_idx, test_idx in kfold.split(X):\n",
    "        _d.update({\n",
    "                'X_train' : X.iloc[train_idx],\n",
    "                'X_test': X.iloc[test_idx],\n",
    "                'y_train': y.iloc[train_idx],\n",
    "                'y_test': y.iloc[test_idx]\n",
    "            })\n",
    "    data_sets.update({\n",
    "            split : _d\n",
    "        })"
   ]
  },
  {
   "cell_type": "code",
   "execution_count": 33,
   "metadata": {},
   "outputs": [],
   "source": [
    "from sklearn import metrics\n",
    "\n",
    "class Regression:\n",
    "    def __init__(self, regressor):\n",
    "        self.regressor = regressor\n",
    "        \n",
    "    def fit(self, X, y):\n",
    "        self.regressor.fit(X, y) \n",
    "\n",
    "    def predict(self, X, y):\n",
    "        return self.regressor.predict(X)\n",
    "    \n",
    "    def score(self, X, y):\n",
    "        return self.regressor.score(X, y)\n",
    "\n",
    "    def mean_squared_error(self, X, y):\n",
    "        return metrics.mean_squared_error(self.predict(X,y), y)\n",
    "    \n",
    "    def accuracy(self, X,y):\n",
    "        return metrics.r2_score(self.predict(X,y), y)"
   ]
  },
  {
   "cell_type": "code",
   "execution_count": 34,
   "metadata": {},
   "outputs": [],
   "source": [
    "def model_fit(data_set, regressor):\n",
    "    params = dict()\n",
    "    regressor.fit(data_set['X_train'], data_set['y_train'])\n",
    "    neighbors = True if 'neighbors' in regressor.regressor.steps[1][0] else False\n",
    "    params.update({\n",
    "            'coeffs' : [0.0] if neighbors else regressor.regressor.steps[1][1].coef_,\n",
    "            'intercept': [0.0] if neighbors else regressor.regressor.steps[1][1].intercept_,\n",
    "            'mean_sq_error': regressor.mean_squared_error(data_set['X_train'], data_set['y_train']),\n",
    "            'accuracy': regressor.accuracy(data_set['X_test'], data_set['y_test'])\n",
    "        })\n",
    "    #print (params)\n",
    "    return params\n",
    "    \n",
    "def compute_averages(list_of_dicts):\n",
    "    averaged_params = dict()\n",
    "    for set_key in list_of_dicts[0].keys():\n",
    "        _list = [val for obj in list_of_dicts for key, val in obj.items() if key == set_key]\n",
    "        if isinstance(_list[0], dict):\n",
    "            averaged_params[set_key] = compute_averages(_list)\n",
    "        elif isinstance(_list[0], list) or isinstance(_list[0], np.ndarray):\n",
    "            if isinstance(_list[0][0], dict):\n",
    "                sub_list = [[_list[i][j] for i in range(len(_list))] for j in range(len(_list[0]))]\n",
    "                averaged_params[set_key] = [compute_averages(x) for x in sub_list]\n",
    "            else:\n",
    "                averaged_params[set_key] = np.round(np.average(np.array(_list), axis=0), 3)\n",
    "        elif isinstance(_list[0], float) or isinstance(_list[0], int):\n",
    "            averaged_params[set_key] = np.round(np.average(np.array(_list)), 3)\n",
    "        else:\n",
    "            pass\n",
    "    return averaged_params\n",
    "\n",
    "def averaged_params(regressor):\n",
    "    multiple_params = list()\n",
    "    for set_key, value in data_sets.items():\n",
    "        multiple_params.append({\n",
    "                set_key: model_fit(value, regressor)\n",
    "            })\n",
    "    return compute_averages(multiple_params)"
   ]
  },
  {
   "cell_type": "code",
   "execution_count": null,
   "metadata": {},
   "outputs": [],
   "source": [
    "##Linear Regression"
   ]
  },
  {
   "cell_type": "code",
   "execution_count": 36,
   "metadata": {},
   "outputs": [
    {
     "data": {
      "text/plain": [
       "{0: {'coeffs': array([0.04 , 0.033, 0.163, 0.386]),\n",
       "  'intercept': 3.889,\n",
       "  'mean_sq_error': 0.171,\n",
       "  'accuracy': 0.471}}"
      ]
     },
     "execution_count": 36,
     "metadata": {},
     "output_type": "execute_result"
    }
   ],
   "source": [
    "linear = make_pipeline(StandardScaler(), LinearRegression(fit_intercept=True))\n",
    "regressor = Regression(linear)\n",
    "averaged_params(regressor)"
   ]
  },
  {
   "cell_type": "code",
   "execution_count": 37,
   "metadata": {},
   "outputs": [],
   "source": [
    "##Lasso Regression"
   ]
  },
  {
   "cell_type": "code",
   "execution_count": 39,
   "metadata": {},
   "outputs": [
    {
     "name": "stdout",
     "output_type": "stream",
     "text": [
      "Lasso: alpha =  1.0\n",
      "{0: {'coeffs': array([0., 0., 0., 0.]), 'intercept': 3.889, 'mean_sq_error': 0.491, 'accuracy': -1.5351416147331998e+29}}\n",
      "Lasso: alpha =  0.1\n",
      "{0: {'coeffs': array([0.   , 0.   , 0.124, 0.36 ]), 'intercept': 3.889, 'mean_sq_error': 0.184, 'accuracy': 0.121}}\n",
      "Lasso: alpha =  0.01\n",
      "{0: {'coeffs': array([0.036, 0.028, 0.159, 0.384]), 'intercept': 3.889, 'mean_sq_error': 0.171, 'accuracy': 0.449}}\n",
      "Lasso: alpha =  0.001\n",
      "{0: {'coeffs': array([0.04 , 0.032, 0.162, 0.386]), 'intercept': 3.889, 'mean_sq_error': 0.171, 'accuracy': 0.469}}\n"
     ]
    }
   ],
   "source": [
    "for alpha in [1.0, 0.1, 0.01, 0.001]:\n",
    "    lasso = make_pipeline(StandardScaler(), Lasso(alpha=alpha, fit_intercept=True))\n",
    "    regressor = Regression(lasso)\n",
    "    print (\"Lasso: alpha = \", alpha)\n",
    "    print (averaged_params(regressor))"
   ]
  },
  {
   "cell_type": "code",
   "execution_count": 40,
   "metadata": {},
   "outputs": [],
   "source": [
    "##KNeighbors Regression"
   ]
  },
  {
   "cell_type": "code",
   "execution_count": 41,
   "metadata": {},
   "outputs": [
    {
     "name": "stdout",
     "output_type": "stream",
     "text": [
      "KNeighbors: neighbors =  1\n",
      "{0: {'coeffs': array([0.]), 'intercept': array([0.]), 'mean_sq_error': 0.298, 'accuracy': 0.323}}\n",
      "KNeighbors: neighbors =  2\n",
      "{0: {'coeffs': array([0.]), 'intercept': array([0.]), 'mean_sq_error': 0.226, 'accuracy': 0.384}}\n",
      "KNeighbors: neighbors =  3\n",
      "{0: {'coeffs': array([0.]), 'intercept': array([0.]), 'mean_sq_error': 0.204, 'accuracy': 0.399}}\n",
      "KNeighbors: neighbors =  4\n",
      "{0: {'coeffs': array([0.]), 'intercept': array([0.]), 'mean_sq_error': 0.189, 'accuracy': 0.435}}\n",
      "KNeighbors: neighbors =  5\n",
      "{0: {'coeffs': array([0.]), 'intercept': array([0.]), 'mean_sq_error': 0.18, 'accuracy': 0.447}}\n",
      "KNeighbors: neighbors =  6\n",
      "{0: {'coeffs': array([0.]), 'intercept': array([0.]), 'mean_sq_error': 0.18, 'accuracy': 0.453}}\n",
      "KNeighbors: neighbors =  7\n",
      "{0: {'coeffs': array([0.]), 'intercept': array([0.]), 'mean_sq_error': 0.178, 'accuracy': 0.451}}\n",
      "KNeighbors: neighbors =  8\n",
      "{0: {'coeffs': array([0.]), 'intercept': array([0.]), 'mean_sq_error': 0.178, 'accuracy': 0.454}}\n",
      "KNeighbors: neighbors =  9\n",
      "{0: {'coeffs': array([0.]), 'intercept': array([0.]), 'mean_sq_error': 0.177, 'accuracy': 0.456}}\n"
     ]
    }
   ],
   "source": [
    "for neighbors in range(1,10):\n",
    "    kneighbors = make_pipeline(StandardScaler(), KNeighborsRegressor(n_neighbors=neighbors))\n",
    "    regressor = Regression(kneighbors)\n",
    "    print (\"KNeighbors: neighbors = \", neighbors)\n",
    "    print (averaged_params(regressor))"
   ]
  },
  {
   "cell_type": "code",
   "execution_count": null,
   "metadata": {},
   "outputs": [],
   "source": []
  }
 ],
 "metadata": {
  "kernelspec": {
   "display_name": "Python 3",
   "language": "python",
   "name": "python3"
  },
  "language_info": {
   "codemirror_mode": {
    "name": "ipython",
    "version": 3
   },
   "file_extension": ".py",
   "mimetype": "text/x-python",
   "name": "python",
   "nbconvert_exporter": "python",
   "pygments_lexer": "ipython3",
   "version": "3.7.6"
  }
 },
 "nbformat": 4,
 "nbformat_minor": 4
}
